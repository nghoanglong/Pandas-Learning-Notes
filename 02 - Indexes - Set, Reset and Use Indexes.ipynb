{
 "cells": [
  {
   "cell_type": "markdown",
   "metadata": {},
   "source": [
    "## Define and Set Up"
   ]
  },
  {
   "cell_type": "code",
   "execution_count": null,
   "metadata": {},
   "outputs": [],
   "source": [
    "import pandas as pd\n",
    "df = pd.read_csv('data/survey_results_public.csv')\n",
    "\n",
    "# ngoài ra ta có thể set_index ngay từ ban đầu khi đọc file\n",
    "# df = pd.read_csv('data/survey_results_public.csv', index_col='Hobbyist')\n",
    "df.head(5)"
   ]
  },
  {
   "cell_type": "markdown",
   "metadata": {},
   "source": [
    "## Những method cơ bản hay được sử dụng\n",
    "Dưới đây là những method cơ bản mà mình thường sử dụng, ngoài ra từ đây mn có thể tự phát triển thêm"
   ]
  },
  {
   "cell_type": "markdown",
   "metadata": {},
   "source": [
    "### Set Index method\n",
    "Dùng để chọn column bất kì đưa lên làm index, mặc định pandas sẽ gán mỗi row ứng với một số từ [0, n] như index của một mảng"
   ]
  },
  {
   "cell_type": "code",
   "execution_count": null,
   "metadata": {},
   "outputs": [],
   "source": [
    "df.set_index('Respondent')"
   ]
  },
  {
   "cell_type": "markdown",
   "metadata": {},
   "source": [
    "Có thể thấy thay vì index là các số tự nhiên, bây giờ nó đã chọn cột Respondent trở thành index để ta truy xuất. Nhưng lưu ý, đây chỉ là bản sao của DataFrame, nếu ta thử df.head(5) thì ta thấy nó chẳng thay đổi gì. Cho nên bây giờ ta phải sử dụng tham số **inplace** để làm nó ảnh hưởng tới DataFrame gốc"
   ]
  },
  {
   "cell_type": "code",
   "execution_count": null,
   "metadata": {},
   "outputs": [],
   "source": [
    "#df.head(5) # ko thay đổi gì ở DataFrame gốc\n",
    "\n",
    "df.set_index('Respondent', inplace = True) # đã thay đổi hẳn\n",
    "df.head(5)\n",
    "\n",
    "# Để truy xuất thì ta phải follow theo Respondent\n",
    "# df['MainBranch'][1] #vị trí 0 ko còn là dòng đầu tiên nữa mà là 1"
   ]
  },
  {
   "cell_type": "markdown",
   "metadata": {},
   "source": [
    "### Xem index của DataFrame hiện tại"
   ]
  },
  {
   "cell_type": "code",
   "execution_count": null,
   "metadata": {},
   "outputs": [],
   "source": [
    "df.index # đã bị thay đổi thành cột Respondent"
   ]
  },
  {
   "cell_type": "markdown",
   "metadata": {},
   "source": [
    "### Reset lại index như ban đầu"
   ]
  },
  {
   "cell_type": "code",
   "execution_count": null,
   "metadata": {},
   "outputs": [],
   "source": [
    "df.reset_index(inplace = True)"
   ]
  },
  {
   "cell_type": "markdown",
   "metadata": {},
   "source": [
    "## Select rows and colums\n",
    "Với cách sử dụng DataFrame thông thường thì ta vẫn có thể Select phần tử nhất định trong DataFrame, nhưng với Pandas việc này đã trở nên thuận tiện hơn với **loc** và **iloc**\n",
    "\n",
    "Cả **loc** và **iloc** đều xài cơ chế [dòng, cột]"
   ]
  },
  {
   "cell_type": "markdown",
   "metadata": {},
   "source": [
    "### Loc method"
   ]
  },
  {
   "cell_type": "code",
   "execution_count": null,
   "metadata": {},
   "outputs": [],
   "source": [
    "# lấy ra một record\n",
    "df.loc[0]"
   ]
  },
  {
   "cell_type": "code",
   "execution_count": null,
   "metadata": {},
   "outputs": [],
   "source": [
    "# specify column\n",
    "df.loc[0:3, ['MainBranch', 'Hobbyist']]"
   ]
  },
  {
   "cell_type": "code",
   "execution_count": null,
   "metadata": {},
   "outputs": [],
   "source": [
    "# specify row\n",
    "df.loc[[0, 3], 'Hobbyist']"
   ]
  },
  {
   "cell_type": "code",
   "execution_count": null,
   "metadata": {},
   "outputs": [],
   "source": [
    "# lấy từ column MainBranch -> OpenSourcer\n",
    "df.loc[:, 'MainBranch':'OpenSourcer']"
   ]
  },
  {
   "cell_type": "code",
   "execution_count": null,
   "metadata": {},
   "outputs": [],
   "source": [
    "# reverse dataframe\n",
    "df.loc[::-1, 'MainBranch':'OpenSourcer']"
   ]
  },
  {
   "cell_type": "code",
   "execution_count": null,
   "metadata": {},
   "outputs": [],
   "source": [
    "# value at [row, column]\n",
    "df.loc[0, 'Hobbyist']"
   ]
  },
  {
   "cell_type": "markdown",
   "metadata": {},
   "source": [
    "### iloc Method"
   ]
  },
  {
   "cell_type": "code",
   "execution_count": null,
   "metadata": {},
   "outputs": [],
   "source": [
    "df.iloc[0]"
   ]
  },
  {
   "cell_type": "code",
   "execution_count": null,
   "metadata": {},
   "outputs": [],
   "source": [
    "df.iloc[0:4, 0:5]"
   ]
  },
  {
   "cell_type": "markdown",
   "metadata": {},
   "source": [
    "Các method khác tương tự như phần loc phía trên\n",
    "\n",
    "**Kết luận:**\n",
    "+ loc và iloc khác ở chỗ indexing, nhìn vào 2 ví dụ là thấy, loc[0:3] sẽ chạy từ 0 -> 3 còn iloc[0:4] sẽ chạy từ 0 -> 3. Tương tự cho column nó cũng như vậy\n",
    "+ Đối với iloc, chỉ số column sẽ dùng number, chứ ko được dùng string như loc, đây cũng là điểm khác biệt giữa 2 cái\n",
    "+ Lưu ý khi đã sử dụng set_index thì khi truy xuất với loc và iloc nó sẽ thay đổi theo, nó ko còn như cũ nữa\n",
    "+ Nếu cột index đã bị thay đổi bằng cột có kiểu dữ liệu string thì khi dùng df.loc[0] sẽ ko thể lấy ra record dầu tiên nữa mà phải dùng df.iloc[0] hoặc df.loc['string']"
   ]
  }
 ],
 "metadata": {
  "kernelspec": {
   "display_name": "pandas_cheatsheet",
   "language": "python",
   "name": "pandas_cheatsheet"
  },
  "language_info": {
   "codemirror_mode": {
    "name": "ipython",
    "version": 3
   },
   "file_extension": ".py",
   "mimetype": "text/x-python",
   "name": "python",
   "nbconvert_exporter": "python",
   "pygments_lexer": "ipython3",
   "version": "3.7.7"
  }
 },
 "nbformat": 4,
 "nbformat_minor": 4
}
