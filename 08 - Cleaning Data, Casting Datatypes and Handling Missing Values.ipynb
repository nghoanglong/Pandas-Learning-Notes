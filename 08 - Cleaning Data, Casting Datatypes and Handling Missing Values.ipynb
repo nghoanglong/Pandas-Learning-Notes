{
 "cells": [
  {
   "cell_type": "markdown",
   "metadata": {},
   "source": [
    "## Define and Set Up"
   ]
  },
  {
   "cell_type": "code",
   "execution_count": null,
   "metadata": {},
   "outputs": [],
   "source": [
    "import pandas as pd\n",
    "import numpy as np"
   ]
  },
  {
   "cell_type": "code",
   "execution_count": null,
   "metadata": {},
   "outputs": [],
   "source": [
    "people = {\n",
    "    'first': ['Corey', 'Jane', 'John', 'Chris', np.nan, None, 'NA'], \n",
    "    'last': ['Schafer', 'Doe', 'Doe', 'Schafer', np.nan, np.nan, 'Missing'], \n",
    "    'email': ['CoreyMSchafer@gmail.com', 'JaneDoe@email.com', 'JohnDoe@email.com', None, np.nan, 'Anonymous@email.com', 'NA'],\n",
    "    'age': ['33', '55', '63', '36', None, None, 'Missing'],\n",
    "    'grade': [5, 4, 3, 2, 1, 5, 8]\n",
    "}\n",
    "df = pd.DataFrame(people)\n",
    "df"
   ]
  },
  {
   "cell_type": "markdown",
   "metadata": {},
   "source": [
    "## Cleaning Data\n",
    "Mình sẽ giới thiệu một số method thường được dùng để xử lý dữ liệu NaN hay dữ liệu rỗng trong Pandas\n",
    "\n",
    "Chỉ có **None** và **NaN** được xem là giá trị rỗng trong Pandas, nó không dựa trên quy tắc **Truthy** và **Falsy** thông thường\n",
    " \n",
    "Các method bên dưới đầu cần tham số inplace để thay đổi vào DF gốc"
   ]
  },
  {
   "cell_type": "markdown",
   "metadata": {},
   "source": [
    "### Kiểm tra có phải giá trị rỗng\n",
    "Ta có một method **df.isna()** để kiểm tra giá trị tại một ô bất kì trong DataFrame có phải là rỗng hay không."
   ]
  },
  {
   "cell_type": "code",
   "execution_count": null,
   "metadata": {},
   "outputs": [],
   "source": [
    "df.isna()"
   ]
  },
  {
   "cell_type": "markdown",
   "metadata": {},
   "source": [
    "### Fill những ô mang giá trị rỗng\n",
    "Ta có một method **df.fillna(giatri)** để fill một giá trị bất kì tùy theo chúng ta quy định vào những ô mang giá trị rỗng, cùng xem code bên dưới"
   ]
  },
  {
   "cell_type": "code",
   "execution_count": null,
   "metadata": {},
   "outputs": [],
   "source": [
    "# fill những ô mang giá trị rỗng bằng số 0\n",
    "df.fillna(0)"
   ]
  },
  {
   "cell_type": "markdown",
   "metadata": {},
   "source": [
    "### Drop rows and columns\n",
    "Ta có một method hỗ trợ drop những rows và columns mang giá trị rỗng, tùy theo ta custom, cùng xem ví dụ bên dưới"
   ]
  },
  {
   "cell_type": "code",
   "execution_count": null,
   "metadata": {},
   "outputs": [],
   "source": [
    "df.dropna()"
   ]
  },
  {
   "cell_type": "markdown",
   "metadata": {},
   "source": [
    "Ta thấy nó thực hiện drop những dòng mang giá trị rỗng. Nhưng bản chất những tham số ngầm đằng sau là gì?"
   ]
  },
  {
   "cell_type": "code",
   "execution_count": null,
   "metadata": {},
   "outputs": [],
   "source": [
    "df.dropna(axis='index', how='any')"
   ]
  },
  {
   "cell_type": "markdown",
   "metadata": {},
   "source": [
    "Bên trên chính là những tham số ngầm được tự động truyền vào khi ta sử dụng method **dropna** ko có tham số nào truyền vào.\n",
    "+ axis: xét theo cột (column) hoặc dòng (index)\n",
    "+ how: tùy theo tham số, với all nó sẽ drop khi tất cả giá trị đều là rỗng, còn với any sẽ drop khi có bất kì một tham số nào bằng rỗng"
   ]
  },
  {
   "cell_type": "code",
   "execution_count": null,
   "metadata": {},
   "outputs": [],
   "source": [
    "# chỉ drop row khi tất cả fields đều là rỗng\n",
    "df.dropna(axis='index', how='all')"
   ]
  },
  {
   "cell_type": "markdown",
   "metadata": {},
   "source": [
    "Tương tự ta làm cho columns, mình muốn giới thiệu thêm một tham số đó làm **subset**, nó sẽ xét **how** theo tham số của **subset**. Mn coi ví dụ bên dưới để hiểu thêm"
   ]
  },
  {
   "cell_type": "code",
   "execution_count": null,
   "metadata": {},
   "outputs": [],
   "source": [
    "df.dropna(axis='index', how='all', subset=['last', 'email'])"
   ]
  },
  {
   "cell_type": "markdown",
   "metadata": {},
   "source": [
    "Ta thấy ở dòng 5, tham số email vẫn còn nên nó không hề drop dòng này. Khi ta truyền tham số subset thì nó ko còn xét trên toàn bộ DataFrame nữa, mà chỉ dùng những tham số của riêng subset để xét cho how"
   ]
  },
  {
   "cell_type": "markdown",
   "metadata": {},
   "source": [
    "## Convert DataTypes\n",
    "Dưới đây mình sẽ giới thiệu những method để convert một số DataTypes tiện cho việc xử lý dữ liệu"
   ]
  },
  {
   "cell_type": "markdown",
   "metadata": {},
   "source": [
    "### Lấy ra kiểu dữ liệu của tất cả columns"
   ]
  },
  {
   "cell_type": "code",
   "execution_count": null,
   "metadata": {},
   "outputs": [],
   "source": [
    "df.dtypes\n",
    "\n",
    "# hoặc có thể specify một column nào đó\n",
    "# df['grade'].dtypes"
   ]
  },
  {
   "cell_type": "markdown",
   "metadata": {},
   "source": [
    "Ta thấy đa số các column là kiểu object, thường object sẽ là kiểu dữ liệu của một column mang giá trị là những chuỗi. Bài toán đặt ra là làm sao để áp dụng các hàm thống kê lên một column mang kiểu dữ liệu chuỗi? Ví dụ là age, ta sẽ thực hiện như sau\n",
    "\n",
    "Đầu tiên ta cần đưa tất cả những thứ như **Missing** hay **NA** về dạng rỗng chính gốc như sau"
   ]
  },
  {
   "cell_type": "code",
   "execution_count": null,
   "metadata": {},
   "outputs": [],
   "source": [
    "df.replace(['Missing', 'NA', None], np.nan, inplace = True)\n",
    "df"
   ]
  },
  {
   "cell_type": "markdown",
   "metadata": {},
   "source": [
    "Tiến hành lấy mean thử cột age ở dạng object"
   ]
  },
  {
   "cell_type": "code",
   "execution_count": null,
   "metadata": {},
   "outputs": [],
   "source": [
    "df['age'].mean()"
   ]
  },
  {
   "cell_type": "markdown",
   "metadata": {},
   "source": [
    "Xảy ra lỗi, ta tiến hành convert kiểu dữ liệu của column này về kiểu dữ liệu **float**. Tại sao lại phải là **float** mà ko phải kiểu **int**? Bởi vì trong column này có chứa dữ liệu rỗng (NaN), ta thử dtypes kiểu dữ liệu NaN như sau sẽ thấy"
   ]
  },
  {
   "cell_type": "code",
   "execution_count": null,
   "metadata": {},
   "outputs": [],
   "source": [
    "type(np.nan)"
   ]
  },
  {
   "cell_type": "markdown",
   "metadata": {},
   "source": [
    "Ta đã thấy kiểu dữ liệu của **NaN** là **float**, cho nên khi convert sang kiểu **int** những cột có chứa kiểu dữ liệu **NaN** sẽ gây ra lỗi"
   ]
  },
  {
   "cell_type": "markdown",
   "metadata": {},
   "source": [
    "### Hàm convert kiểu dữ liệu"
   ]
  },
  {
   "cell_type": "code",
   "execution_count": null,
   "metadata": {},
   "outputs": [],
   "source": [
    "# Gây ra lỗi do cột này chứa NaN\n",
    "df['age'].astype(int)"
   ]
  },
  {
   "cell_type": "code",
   "execution_count": null,
   "metadata": {},
   "outputs": [],
   "source": [
    "# Hoàn toàn bình thường\n",
    "df['age'] = df['age'].astype(float)\n",
    "df['age'].mean()"
   ]
  },
  {
   "cell_type": "markdown",
   "metadata": {},
   "source": [
    "Ta có thể convert ngay đầu vào khi **Define** như sau. Tham số na_values sẽ hỗ trợ việc convert các giá trị mà ta quy định về giá trị rỗng **NaN**"
   ]
  },
  {
   "cell_type": "code",
   "execution_count": null,
   "metadata": {},
   "outputs": [],
   "source": [
    "na_convert = ['NA', 'Missing']\n",
    "df = pd.read_csv('data/survey_results_public.csv', na_values = na_convert)\n",
    "\n",
    "df.head(5)"
   ]
  },
  {
   "cell_type": "markdown",
   "metadata": {},
   "source": [
    "### Method lấy ra những giá trị hiện có\n",
    "Ta có thể lấy ra những giá trị đang tồn tại trong một columns nào đó bằng method **unique**"
   ]
  },
  {
   "cell_type": "code",
   "execution_count": null,
   "metadata": {},
   "outputs": [],
   "source": [
    "df['YearsCode'].unique()"
   ]
  },
  {
   "cell_type": "markdown",
   "metadata": {},
   "source": [
    "Ta thấy trong cột **YearsCode** chứa cả dữ liệu **NaN** và các dữ liệu kiểu chuỗi. Ta có thể áp dụng các hàm xác suất để tính khi convert nó về kiểu float, mình làm nhanh như sau, các bước cũng như trên"
   ]
  },
  {
   "cell_type": "code",
   "execution_count": null,
   "metadata": {},
   "outputs": [],
   "source": [
    "df['YearsCode'].replace('Less than 1 year', 0, inplace = True)\n",
    "df['YearsCode'].replace('More than 50 years', 51, inplace = True)\n",
    "df['YearsCode'] = df['YearsCode'].astype(float)\n",
    "df['YearsCode'].mean()"
   ]
  }
 ],
 "metadata": {
  "kernelspec": {
   "display_name": "pandas_cheatsheet",
   "language": "python",
   "name": "pandas_cheatsheet"
  },
  "language_info": {
   "codemirror_mode": {
    "name": "ipython",
    "version": 3
   },
   "file_extension": ".py",
   "mimetype": "text/x-python",
   "name": "python",
   "nbconvert_exporter": "python",
   "pygments_lexer": "ipython3",
   "version": "3.7.7"
  }
 },
 "nbformat": 4,
 "nbformat_minor": 4
}
