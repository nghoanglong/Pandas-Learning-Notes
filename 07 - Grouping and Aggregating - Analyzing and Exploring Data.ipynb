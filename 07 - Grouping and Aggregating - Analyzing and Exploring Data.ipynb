{
 "cells": [
  {
   "cell_type": "markdown",
   "metadata": {},
   "source": [
    "## Define and Setup"
   ]
  },
  {
   "cell_type": "code",
   "execution_count": null,
   "metadata": {},
   "outputs": [],
   "source": [
    "import pandas as pd\n",
    "df = pd.read_csv('data/survey_results_public.csv')\n",
    "df.head(5)"
   ]
  },
  {
   "cell_type": "markdown",
   "metadata": {},
   "source": [
    "## Analyze data với các thông số xác suất"
   ]
  },
  {
   "cell_type": "markdown",
   "metadata": {},
   "source": [
    "### Analyze với describe\n",
    "Ta sử dụng hàm describe để thống kê một hoặc nhiều field dữ liệu mà ta muốn. Đối với các field dạng number thì ta sẽ có các thông số tính theo toán xác suất như **median (trung vị)**, còn với các field dạng string thì ta chỉ có những thứ như số lượng record, có bao nhiêu loại phần tử trong một field như vậy, chứ ta không thể áp dụng toán xác suất lên được. Ví dụ như ở dưới"
   ]
  },
  {
   "cell_type": "code",
   "execution_count": null,
   "metadata": {},
   "outputs": [],
   "source": [
    "df['Age'].describe()"
   ]
  },
  {
   "cell_type": "code",
   "execution_count": null,
   "metadata": {},
   "outputs": [],
   "source": [
    "df['Hobbyist'].describe()"
   ]
  },
  {
   "cell_type": "markdown",
   "metadata": {},
   "source": [
    "Ngoài ra ta cũng có thể chỉ lấy một method riêng trong describe chứ không cần lấy toàn bộ thông số như sau"
   ]
  },
  {
   "cell_type": "code",
   "execution_count": null,
   "metadata": {},
   "outputs": [],
   "source": [
    "df['Age'].median()"
   ]
  },
  {
   "cell_type": "code",
   "execution_count": null,
   "metadata": {},
   "outputs": [],
   "source": [
    "df['Hobbyist'].count()"
   ]
  },
  {
   "cell_type": "markdown",
   "metadata": {},
   "source": [
    "### Count và Value_counts\n",
    "+ Count: dùng để đếm số lượng record của DataFrame hoặc một field nào đó, những record mang giá trị NaN sẽ ko được đếm. Count thường dùng cho cả DataFrame và fields\n",
    "+ Value_counts: cũng tương tự như count nhưng nó phân loại theo giá trị rồi tiến hành đếm. Chỉ nên dùng cho field cần thống kê"
   ]
  },
  {
   "cell_type": "code",
   "execution_count": null,
   "metadata": {},
   "outputs": [],
   "source": [
    "df.count()"
   ]
  },
  {
   "cell_type": "code",
   "execution_count": null,
   "metadata": {},
   "outputs": [],
   "source": [
    "df['Hobbyist'].value_counts()"
   ]
  },
  {
   "cell_type": "markdown",
   "metadata": {},
   "source": [
    "Như ta đã thấy, field **'Hobbyist'** có 2 loại giá trị là **Yes** hoặc **No** nên nó phân ra thành 2 loại rồi tiến hành đếm, sau đó trả về cho ta kết quả. Còn count nó tiến hành đếm theo số lượng record có trong fields trừ các record mang giá trị NaN rồi trả về kết quả.\n",
    "\n",
    "Ngoài ra **value_counts** còn có một tham số là normalize, thay vì trả về số lượng, nó sẽ trả về số dạng phần trăm giống trong toán xác suất "
   ]
  },
  {
   "cell_type": "code",
   "execution_count": null,
   "metadata": {},
   "outputs": [],
   "source": [
    "df['Hobbyist'].value_counts(normalize = True)"
   ]
  },
  {
   "cell_type": "markdown",
   "metadata": {},
   "source": [
    "## Grouping and Aggregating\n",
    "Kiến thức dưới đây bao gồm\n",
    "+ Cách sử dụng các method có sẵn của Pandas, phục vụ cho việc grouping data và analyze data\n",
    "+ Phân biệt được DF và GroubyDF, Series và GroubySeries"
   ]
  },
  {
   "cell_type": "markdown",
   "metadata": {},
   "source": [
    "Grouby hỗ trợ cơ chế gom nhóm, thường áp dụng để thống kê và phân tích dữ liệu có sẵn, cùng xem những lợi ích mang lại dưới đây để hiểu thêm"
   ]
  },
  {
   "cell_type": "code",
   "execution_count": null,
   "metadata": {},
   "outputs": [],
   "source": [
    "# Filter thuần DataFrame, thống kê dữ liệu fields Social Media\n",
    "# Filter nước United States\n",
    "df.loc[df['Country'] == 'United States', 'SocialMedia'].value_counts()"
   ]
  },
  {
   "cell_type": "code",
   "execution_count": null,
   "metadata": {},
   "outputs": [],
   "source": [
    "# Filter thuần DataFrame, thống kê dữ liệu fields Social Media\n",
    "# Filter nước India\n",
    "df.loc[df['Country'] == 'India', 'SocialMedia'].value_counts()"
   ]
  },
  {
   "cell_type": "markdown",
   "metadata": {},
   "source": [
    "Ta đã thấy filter và thống kê dữ liệu theo cách thông thường, vậy giả sử ta muốn thống kê tất cả các nước hiện có trong DataFrame thì ta lại phải làm từng nước, cho dù có kết hợp isin cho filter thì cũng quá lâu và mất thời gian\n",
    "\n",
    "Từ đó **grouby** ra đời, nó cung cấp cơ chế gom nhóm theo từng nước cho ta y hệt làm filter, hãy xem code sau"
   ]
  },
  {
   "cell_type": "code",
   "execution_count": null,
   "metadata": {},
   "outputs": [],
   "source": [
    "# groupby theo country\n",
    "country_grp = df.groupby(['Country'])\n",
    "country_grp"
   ]
  },
  {
   "cell_type": "markdown",
   "metadata": {},
   "source": [
    "Ta thấy nó đã tạo ra một object gọi là DataFrameGroupBy, đây là một object hoàn toàn khác với DataFrame thông thường, cũng tương tự như SeriesGroupBy, mn cần phân biệt được 2 loại này với nhau. Sau đây là cách thao tác"
   ]
  },
  {
   "cell_type": "code",
   "execution_count": null,
   "metadata": {},
   "outputs": [],
   "source": [
    "# Lấy ra một nước nhất định\n",
    "country_grp.get_group('United States')"
   ]
  },
  {
   "cell_type": "markdown",
   "metadata": {},
   "source": [
    "Như ta đã thấy, nó hoạt động hoàn toàn giống cơ chế filter của DataFrame thông thường khi filter United States. Sau đây ta sẽ lấy ra cột SocialMedia cho tất cả các nước"
   ]
  },
  {
   "cell_type": "code",
   "execution_count": null,
   "metadata": {},
   "outputs": [],
   "source": [
    "country_grp['SocialMedia'].value_counts()"
   ]
  },
  {
   "cell_type": "markdown",
   "metadata": {},
   "source": [
    "Ta thấy nó vừa cung cấp cơ chế filter ra theo từng nước và áp dụng thống kê với **value_counts** trên từng nước luôn. Nó đã giải quyết được vấn đề của DataFrame thông thường, mn có thể thấy, cột index là **Country** và nó ở dạng 1 **SeriesGroupBy**, cho nên để truy xuất dữ liệu của một nước bất kì ta làm như sau"
   ]
  },
  {
   "cell_type": "code",
   "execution_count": null,
   "metadata": {},
   "outputs": [],
   "source": [
    "country_grp['SocialMedia'].value_counts().loc['United States']"
   ]
  },
  {
   "cell_type": "markdown",
   "metadata": {},
   "source": [
    "Hoàn toàn là những kiến thức đã học về cách truy xuất dữ liệu từ DataFrame và Series\n",
    "\n",
    "**Kết luận:**\n",
    "+ Grouby hỗ trợ cơ chế gom chung rất hữu dụng mà custom theo DataFrame thông thường rất lâu và mất thời gian\n",
    "+ Công thức của Grouby đó là: **Filter + Apply + Combine**. Bước ta groupby theo Country gọi là filter, apply chính là ta sử dụng value_counts và cuối cùng Combine chính là nó kết hợp tất cả dữ liệu của mỗi nước tạo thành một SeriesGroupBy cho chúng ta sử dụng"
   ]
  },
  {
   "cell_type": "markdown",
   "metadata": {},
   "source": [
    "#### Method Agg cho thống kê xác suất"
   ]
  },
  {
   "cell_type": "code",
   "execution_count": null,
   "metadata": {},
   "outputs": [],
   "source": [
    "# Sử dụng groupby country và thống kê dữ liệu cột Salary\n",
    "country_grp['ConvertedComp'].median()"
   ]
  },
  {
   "cell_type": "markdown",
   "metadata": {},
   "source": [
    "Giả sử ta vừa muốn thống kê median và vừa muốn thống kê mean thì ta làm theo cách sử dụng method **agg** như sau"
   ]
  },
  {
   "cell_type": "code",
   "execution_count": null,
   "metadata": {},
   "outputs": [],
   "source": [
    "country_grp['ConvertedComp'].agg(['median', 'mean'])"
   ]
  },
  {
   "cell_type": "code",
   "execution_count": null,
   "metadata": {},
   "outputs": [],
   "source": [
    "# lấy ra một nước nhất định dựa theo kiến thức DataFrame\n",
    "country_grp['ConvertedComp'].agg(['median', 'mean']).loc['Viet Nam', 'median']"
   ]
  },
  {
   "cell_type": "markdown",
   "metadata": {},
   "source": [
    "### DataFrame/Series và DataFrameGB/SeriesGB\n",
    "Ở trên ta đã cũng hiểu sơ về sự khác nhau, đây sẽ là ví dụ chi tiết sự khác nhau của bọn này. Bài toán ta muốn  biết số lượng người làm việc với Python ở mỗi quốc gia khác nhau, thống kê và lọc ra theo từng nước"
   ]
  },
  {
   "cell_type": "code",
   "execution_count": null,
   "metadata": {},
   "outputs": [],
   "source": [
    "df.loc[df['Country'] == 'India', 'LanguageWorkedWith']"
   ]
  },
  {
   "cell_type": "markdown",
   "metadata": {},
   "source": [
    "Ta thấy ở field LanguageWorkedWith này nó là một chuỗi dạng những ngôn ngữ đã từng làm qua của mỗi record, may mắn thay ta đã được học method để kiểm tra xem trong chuỗi có tồn tại một từ nào đó hay ko, cho nên mình sẽ làm thử như sau"
   ]
  },
  {
   "cell_type": "code",
   "execution_count": null,
   "metadata": {},
   "outputs": [],
   "source": [
    "df.loc[df['Country'] == 'India', 'LanguageWorkedWith'].str.contains('Python')"
   ]
  },
  {
   "cell_type": "markdown",
   "metadata": {},
   "source": [
    "Rồi okie hoàn hảo, nó chả ra một Series True False, bây giờ để đếm số lượng người có làm việc với Python, ta có một method gọi là sum, nó nhận đếm một Series"
   ]
  },
  {
   "cell_type": "code",
   "execution_count": null,
   "metadata": {},
   "outputs": [],
   "source": [
    "df.loc[df['Country'] == 'India', 'LanguageWorkedWith'].str.contains('Python').sum()"
   ]
  },
  {
   "cell_type": "markdown",
   "metadata": {},
   "source": [
    "Vậy ta có 3105 người làm việc với Python ở India, rồi vậy bây giờ tầm nhìn xa hơn nữa, ta muốn thống kê mỗi nước xem có bao nhiều người làm việc với Python? Đây là lúc ta sử dụng Grouby như đã học, hãy xem code sau đâu"
   ]
  },
  {
   "cell_type": "code",
   "execution_count": null,
   "metadata": {},
   "outputs": [],
   "source": [
    "country_grp['LanguageWorkedWith'].str.contains('Python')"
   ]
  },
  {
   "cell_type": "markdown",
   "metadata": {},
   "source": [
    "Đây chính là sự khác nhau giữa Series và SeriesGroupBy, SeriesGroupBy hoàn toàn không có method nào tên là .str cả, cách giải quyết thì Pandas đã đưa ra một giải pháp sử dụng method apply, ta cùng làm như sau"
   ]
  },
  {
   "cell_type": "code",
   "execution_count": null,
   "metadata": {},
   "outputs": [],
   "source": [
    "country_grp['LanguageWorkedWith'].apply(lambda x: x.str.contains('Python').sum())"
   ]
  },
  {
   "cell_type": "markdown",
   "metadata": {},
   "source": [
    "Vậy là đã xong, đúng như kiến thức ta đã được học, có thể giải thích code trên như sau\n",
    "+ Bước filter: **country_grp['LanguageWorkedWith'] tương đương với df.loc[df['Country'] == 'India', 'LanguageWorkedWith']** nhưng GroupBy áp dụng cho quy mô tất cả các nước\n",
    "+ Bước apply: **code trên tương đương với df.loc[df['Country'] == 'India', 'LanguageWorkedWith'].str.contains('Python').sum()** nhưng GroupBy áp dụng cho tất cả các nước\n",
    "+ Bước combine: Gom tất cả các nước đã apply lại vào cùng 1 SeriesGroupBy"
   ]
  },
  {
   "cell_type": "markdown",
   "metadata": {},
   "source": [
    "### Concat Method\n",
    "Hỗ trợ gom nhóm vào cùng 1 DataFrame"
   ]
  },
  {
   "cell_type": "code",
   "execution_count": null,
   "metadata": {},
   "outputs": [],
   "source": [
    "country_res = df['Country'].value_counts()\n",
    "country_res"
   ]
  },
  {
   "cell_type": "code",
   "execution_count": null,
   "metadata": {},
   "outputs": [],
   "source": [
    "country_uses_python = country_grp['LanguageWorkedWith'].apply(lambda x: x.str.contains('Python').sum())\n",
    "country_uses_python"
   ]
  },
  {
   "cell_type": "code",
   "execution_count": null,
   "metadata": {},
   "outputs": [],
   "source": [
    "# concat\n",
    "python_df = pd.concat([country_res, country_uses_python], axis = 'columns')\n",
    "python_df"
   ]
  }
 ],
 "metadata": {
  "kernelspec": {
   "display_name": "pandas_cheatsheet",
   "language": "python",
   "name": "pandas_cheatsheet"
  },
  "language_info": {
   "codemirror_mode": {
    "name": "ipython",
    "version": 3
   },
   "file_extension": ".py",
   "mimetype": "text/x-python",
   "name": "python",
   "nbconvert_exporter": "python",
   "pygments_lexer": "ipython3",
   "version": "3.7.7"
  }
 },
 "nbformat": 4,
 "nbformat_minor": 4
}
