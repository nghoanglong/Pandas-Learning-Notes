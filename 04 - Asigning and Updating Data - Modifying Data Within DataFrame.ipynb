{
 "cells": [
  {
   "cell_type": "markdown",
   "metadata": {},
   "source": [
    "## Define and Set Up"
   ]
  },
  {
   "cell_type": "code",
   "execution_count": null,
   "metadata": {},
   "outputs": [],
   "source": [
    "import pandas as pd"
   ]
  },
  {
   "cell_type": "code",
   "execution_count": null,
   "metadata": {},
   "outputs": [],
   "source": [
    "people = {\n",
    "    \"first\": [\"Corey\", 'Jane', 'John'], \n",
    "    \"last\": [\"Schafer\", 'Doe', 'Doe'], \n",
    "    \"email\": [\"CoreyMSchafer@gmail.com\", 'JaneDoe@email.com', 'JohnDoe@email.com']\n",
    "}\n",
    "df = pd.DataFrame(people)"
   ]
  },
  {
   "cell_type": "markdown",
   "metadata": {},
   "source": [
    "## Asigning and Updating"
   ]
  },
  {
   "cell_type": "markdown",
   "metadata": {},
   "source": [
    "### Working with Columns\n",
    "Khi làm việc với columns thì ta thường quan tâm tới việc thay đổi nhãn của các fields. Dưới đây sẽ là một số cách"
   ]
  },
  {
   "cell_type": "code",
   "execution_count": null,
   "metadata": {},
   "outputs": [],
   "source": [
    "df.columns = ['first_name', 'last_name', 'email']\n",
    "df"
   ]
  },
  {
   "cell_type": "markdown",
   "metadata": {},
   "source": [
    "Với cách trên, ta phải truyền một list toàn bộ tên của tất cả columns, rất bất tiện khi ta chỉ muốn thay đổi tên của một số columns. Ta có thể sử dụng method dưới đây để thay đổi một số columns cần thiết"
   ]
  },
  {
   "cell_type": "code",
   "execution_count": null,
   "metadata": {},
   "outputs": [],
   "source": [
    "df.rename(columns={'email': 'private_email'}, inplace = True)\n",
    "df # cần thêm tham số inplace để nó thay đổi trên DF gốc"
   ]
  },
  {
   "cell_type": "markdown",
   "metadata": {},
   "source": [
    "### Working with Rows\n",
    "Khi làm việc với rows thì người ta thường hay nhắc tới việc thay đổi giá trị của các records, nhưng các bạn có thể tham khảo thêm về việc set index cho rows hay rename nó"
   ]
  },
  {
   "cell_type": "markdown",
   "metadata": {},
   "source": [
    "#### Thay đổi toàn bộ record"
   ]
  },
  {
   "cell_type": "code",
   "execution_count": null,
   "metadata": {},
   "outputs": [],
   "source": [
    "df['email'] = df['email'].str.upper() # email của tất cả records\n",
    "df"
   ]
  },
  {
   "cell_type": "markdown",
   "metadata": {},
   "source": [
    "#### Thay đổi value của một record"
   ]
  },
  {
   "cell_type": "code",
   "execution_count": null,
   "metadata": {},
   "outputs": [],
   "source": [
    "df.loc[2] = ['Nguyen', 'Hoang Long', 'nghoanglong.17dec@gmail.com']\n",
    "df"
   ]
  },
  {
   "cell_type": "markdown",
   "metadata": {},
   "source": [
    "#### Thay đổi một số field nhất định"
   ]
  },
  {
   "cell_type": "code",
   "execution_count": null,
   "metadata": {},
   "outputs": [],
   "source": [
    "df.loc[2, 'email'] = 'NGHOANGLONG.17DEC@GMAIL.COM'\n",
    "df"
   ]
  },
  {
   "cell_type": "markdown",
   "metadata": {},
   "source": [
    "#### Sử dụng method at\n",
    "Thay vì sử dụng **loc** ta có thể sử dụng **at** cho single record. Nhưng mà thông thường mình hay xài **loc** vì đỡ phải nhớ thêm 1 cái nữa"
   ]
  },
  {
   "cell_type": "code",
   "execution_count": null,
   "metadata": {},
   "outputs": [],
   "source": [
    "df.at[2, 'first'] = 'nguyen'\n",
    "df"
   ]
  },
  {
   "cell_type": "markdown",
   "metadata": {},
   "source": [
    "#### Lỗi khi assign value"
   ]
  },
  {
   "cell_type": "code",
   "execution_count": null,
   "metadata": {},
   "outputs": [],
   "source": [
    "df[df['email'] == 'NGHOANGLONG.17DEC@GMAIL.COM']['first'] = 'Nguyen'"
   ]
  },
  {
   "cell_type": "markdown",
   "metadata": {},
   "source": [
    "Đây là lỗi gặp phải khi bạn filter ra một single record rồi gán value cho một giá trị mới. Trên thực tế, khi filter ra nó đang tạo ra copy object trong panda chứ ko thực sự thao tác trên cái chính. Vì thế nên nó ra lỗi, cách fix ta sẽ sử dụng **loc** như sau"
   ]
  },
  {
   "cell_type": "code",
   "execution_count": null,
   "metadata": {},
   "outputs": [],
   "source": [
    "df.loc[df['email'] == 'NGHOANGLONG.17DEC@GMAIL.COM', ['first']] = 'Nguyen'\n",
    "df"
   ]
  },
  {
   "cell_type": "markdown",
   "metadata": {},
   "source": [
    "### Các method hay sử dụng\n",
    "Mình sẽ trình bày 4 thứ hay được sử dụng để assign hay change value đó là\n",
    "+ apply\n",
    "+ applymap\n",
    "+ map\n",
    "+ replace"
   ]
  },
  {
   "cell_type": "markdown",
   "metadata": {},
   "source": [
    "#### Apply\n",
    "Apply có thể work cả ở DataFrame và Series, method apply sẽ hoạt động theo cơ chế nhận vào một function, rồi áp dụng function đó trên từng record"
   ]
  },
  {
   "cell_type": "code",
   "execution_count": null,
   "metadata": {},
   "outputs": [],
   "source": [
    "# apply cho Series\n",
    "df['email'] = df['email'].apply(lambda x: x.lower())\n",
    "df"
   ]
  },
  {
   "cell_type": "code",
   "execution_count": null,
   "metadata": {},
   "outputs": [],
   "source": [
    "# apply cho DataFrame\n",
    "df.apply(len)"
   ]
  },
  {
   "cell_type": "markdown",
   "metadata": {},
   "source": [
    "Như ta thấy, khi áp dụng apply cho toàn bộ DataFrame, thì function len áp dụng cho từng columns, nó sẽ trả về số lượng record của từng columns đang nắm giữ."
   ]
  },
  {
   "cell_type": "code",
   "execution_count": null,
   "metadata": {},
   "outputs": [],
   "source": [
    "# apply cho DataFrame, mỗi x là một Series(column)\n",
    "df.apply(lambda x: x.min())"
   ]
  },
  {
   "cell_type": "markdown",
   "metadata": {},
   "source": [
    "#### Applymap\n",
    "Applymap nó cũng gần giống Apply, điểm khác biệt là applymap nó áp dụng trên từng giá trị của mỗi records. Applymap chỉ có cơ chế cho DataFrame, không có cho Series, xem ví dụ bên dưới để hiểu thêm"
   ]
  },
  {
   "cell_type": "code",
   "execution_count": null,
   "metadata": {
    "scrolled": true
   },
   "outputs": [],
   "source": [
    "df.applymap(len)"
   ]
  },
  {
   "cell_type": "code",
   "execution_count": null,
   "metadata": {},
   "outputs": [],
   "source": [
    "df = df.applymap(lambda x: x.lower())\n",
    "df"
   ]
  },
  {
   "cell_type": "markdown",
   "metadata": {},
   "source": [
    "#### Map\n",
    "Map áp dụng cho Series, không dành cho DataFrame. Nó gán giá trị cho những giá trị được định nghĩa, còn lại nó gán Nan. Xem ví dụ bên dưới"
   ]
  },
  {
   "cell_type": "code",
   "execution_count": null,
   "metadata": {
    "scrolled": true
   },
   "outputs": [],
   "source": [
    "df['first'].map({'corey': 'tran', 'jane': 'le'})"
   ]
  },
  {
   "cell_type": "markdown",
   "metadata": {},
   "source": [
    "#### Replace\n",
    "Replace cũng giống như Map, nhưng những giá trị nó không được định nghĩa sẽ không gán bằng Nan nữa mà nó giữ nguyên giá trị ban đầu. Xem ví dụ bên dưới để hiểu thêm"
   ]
  },
  {
   "cell_type": "code",
   "execution_count": null,
   "metadata": {},
   "outputs": [],
   "source": [
    "df['first'] = df['first'].replace({'Corey': 'Tran', 'Jane': 'le'})\n",
    "df"
   ]
  },
  {
   "cell_type": "markdown",
   "metadata": {},
   "source": [
    "Replace còn sử dụng được cho cả DataFrame khi ta muốn thay đổi dữ liệu, ví dụ như sau"
   ]
  },
  {
   "cell_type": "code",
   "execution_count": null,
   "metadata": {},
   "outputs": [],
   "source": [
    "# tham số đầu tiên là giá trị muốn thay đổi\n",
    "df.replace('Corey', 'Nguyen', inplace = True)\n",
    "df"
   ]
  }
 ],
 "metadata": {
  "kernelspec": {
   "display_name": "pandas_cheatsheet",
   "language": "python",
   "name": "pandas_cheatsheet"
  },
  "language_info": {
   "codemirror_mode": {
    "name": "ipython",
    "version": 3
   },
   "file_extension": ".py",
   "mimetype": "text/x-python",
   "name": "python",
   "nbconvert_exporter": "python",
   "pygments_lexer": "ipython3",
   "version": "3.7.7"
  }
 },
 "nbformat": 4,
 "nbformat_minor": 4
}
