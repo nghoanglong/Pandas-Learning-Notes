{
 "cells": [
  {
   "cell_type": "markdown",
   "metadata": {},
   "source": [
    "## Define and Set Up"
   ]
  },
  {
   "cell_type": "code",
   "execution_count": null,
   "metadata": {},
   "outputs": [],
   "source": [
    "import pandas as pd\n",
    "df = pd.read_csv('data/ETH_1h.csv')\n",
    "\n",
    "df.head(5)"
   ]
  },
  {
   "cell_type": "markdown",
   "metadata": {},
   "source": [
    "## Working with Date Times \n",
    "Dưới đây là một số method hỗ trợ làm việc với kiểu dữ liệu Date Times"
   ]
  },
  {
   "cell_type": "code",
   "execution_count": null,
   "metadata": {},
   "outputs": [],
   "source": [
    "df.dtypes"
   ]
  },
  {
   "cell_type": "markdown",
   "metadata": {},
   "source": [
    "Ta chỉ quan tâm tới cột **Date**, có thể thấy nó ở đang ở dạng object - string chứ không phải kiểu dữ liệu **Date Times**. Cho nên ta phải convert về kiểu dữ liệu **Date Times** chính tắc như sau"
   ]
  },
  {
   "cell_type": "markdown",
   "metadata": {},
   "source": [
    "### Convert Date Times\n",
    "Do kiểu dữ liệu của cột Date đang ở dạng string, ko theo một quy tắc chuẩn, nên ta phải format string đó về Date Times theo dạng chuẩn với strftime và strptime như ở [link](https://docs.python.org/3/library/datetime.html#strftime-and-strptime-behavior) này. Mình sẽ làm ví dụ mẫu"
   ]
  },
  {
   "cell_type": "code",
   "execution_count": null,
   "metadata": {},
   "outputs": [],
   "source": [
    "df['Date'] = pd.to_datetime(df['Date'], format='%Y-%m-%d %I-%p')\n",
    "df"
   ]
  },
  {
   "cell_type": "markdown",
   "metadata": {},
   "source": [
    "Ta thấy nó đã được chuyển đổi sang dạng chính tắc, chuỗi format hoàn toàn dựa trên cột Date gốc và tra bảng ở cái link mới viết ra được như vậy\n",
    "\n",
    "Ngoài ra ta hoàn toàn có thể thực hiện việc này ở bước Define and Set Up như sau"
   ]
  },
  {
   "cell_type": "code",
   "execution_count": null,
   "metadata": {},
   "outputs": [],
   "source": [
    "from datetime import datetime\n",
    "import pandas as pd\n",
    "d_parse = lambda x: datetime.strptime(x, '%Y-%m-%d %I-%p')\n",
    "df = pd.read_csv('data/ETH_1h.csv', parse_dates = ['Date'], date_parser = d_parse)\n",
    "\n",
    "df.head(5)"
   ]
  },
  {
   "cell_type": "markdown",
   "metadata": {},
   "source": [
    "### Hàm hỗ trợ xem ngày đó là thứ mấy"
   ]
  },
  {
   "cell_type": "code",
   "execution_count": null,
   "metadata": {},
   "outputs": [],
   "source": [
    "df.loc[0, 'Date'].day_name()"
   ]
  },
  {
   "cell_type": "markdown",
   "metadata": {},
   "source": [
    "Cũng giống như df.str.contains, ta cũng có một số thứ để thao tác với Date Times cho một Series có kiểu dữ liệu Date Times như sau"
   ]
  },
  {
   "cell_type": "code",
   "execution_count": null,
   "metadata": {},
   "outputs": [],
   "source": [
    "df['Date'].dt.day_name()"
   ]
  },
  {
   "cell_type": "markdown",
   "metadata": {},
   "source": [
    "### Tìm ngày nhỏ nhất hay cũ nhất"
   ]
  },
  {
   "cell_type": "code",
   "execution_count": null,
   "metadata": {},
   "outputs": [],
   "source": [
    "df['Date'].min()"
   ]
  },
  {
   "cell_type": "markdown",
   "metadata": {},
   "source": [
    "### Tìm ngày lớn nhất hay mới nhất"
   ]
  },
  {
   "cell_type": "code",
   "execution_count": null,
   "metadata": {},
   "outputs": [],
   "source": [
    "df['Date'].max()"
   ]
  },
  {
   "cell_type": "markdown",
   "metadata": {},
   "source": [
    "### Khoảng cách giữa 2 ngày"
   ]
  },
  {
   "cell_type": "code",
   "execution_count": null,
   "metadata": {},
   "outputs": [],
   "source": [
    "df['Date'].max() - df['Date'].min()"
   ]
  },
  {
   "cell_type": "markdown",
   "metadata": {},
   "source": [
    "### Filter Date Times"
   ]
  },
  {
   "cell_type": "code",
   "execution_count": null,
   "metadata": {},
   "outputs": [],
   "source": [
    "df.loc[df['Date'] >= '2019']"
   ]
  },
  {
   "cell_type": "markdown",
   "metadata": {},
   "source": [
    "Với column kiểu dữ liệu Date Time khi filter, số đầu tiên theo ta format nó sẽ tự hiểu là Year. Ngoài ra ta có thể truyền đầy đủ tháng ngày cho nó nếu ta muốn"
   ]
  },
  {
   "cell_type": "code",
   "execution_count": null,
   "metadata": {},
   "outputs": [],
   "source": [
    "df.loc[df['Date'] >= datetime.strptime('2019-01-01', '%Y-%m-%d')]"
   ]
  }
 ],
 "metadata": {
  "kernelspec": {
   "display_name": "pandas_cheatsheet",
   "language": "python",
   "name": "pandas_cheatsheet"
  },
  "language_info": {
   "codemirror_mode": {
    "name": "ipython",
    "version": 3
   },
   "file_extension": ".py",
   "mimetype": "text/x-python",
   "name": "python",
   "nbconvert_exporter": "python",
   "pygments_lexer": "ipython3",
   "version": "3.7.7"
  }
 },
 "nbformat": 4,
 "nbformat_minor": 4
}
