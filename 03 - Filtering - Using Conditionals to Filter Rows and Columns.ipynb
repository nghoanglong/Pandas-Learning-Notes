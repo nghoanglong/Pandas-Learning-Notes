{
 "cells": [
  {
   "cell_type": "markdown",
   "metadata": {},
   "source": [
    "## Defind and Set Up"
   ]
  },
  {
   "cell_type": "code",
   "execution_count": null,
   "metadata": {},
   "outputs": [],
   "source": [
    "import pandas as pd\n",
    "df = pd.read_csv('data/survey_results_public.csv')\n",
    "\n",
    "df.head(5)"
   ]
  },
  {
   "cell_type": "markdown",
   "metadata": {},
   "source": [
    "## Filtering Data - Trích lọc dữ liệu"
   ]
  },
  {
   "cell_type": "code",
   "execution_count": null,
   "metadata": {},
   "outputs": [],
   "source": [
    "# giá trị trả về là một Series True - False trên mỗi record\n",
    "df['Hobbyist'] == 'Yes'"
   ]
  },
  {
   "cell_type": "markdown",
   "metadata": {},
   "source": [
    "### Lấy dữ liệu trên từng hàng\n",
    "Filter with condition như bên trên, ta biết được giá trị trả về sẽ là một Series True False trên từng record. Khi đặt nó vào **loc** nó sẽ return về DataFrame với các giá trị của từng record, chứ ko còn là Series True False nữa"
   ]
  },
  {
   "cell_type": "code",
   "execution_count": null,
   "metadata": {},
   "outputs": [],
   "source": [
    "# lấy ra hẳn record chứ ko lấy ra Series True - False\n",
    "df.loc[df['Hobbyist'] == 'Yes']\n",
    "\n",
    "# hoặc dùng DataFrame thuần\n",
    "# df[df['Hobbyist'] == 'Yes'] "
   ]
  },
  {
   "cell_type": "markdown",
   "metadata": {},
   "source": [
    "Lí do ta không làm theo cách DataFrame thuần, mà dùng **loc** bởi vì **loc** cung cấp cho ta tính năng specify column một cách dễ dàng. Nói chung những gì được tạo ra mang lại nhiều lợi ích, ta nên sử dụng một cách triệt để"
   ]
  },
  {
   "cell_type": "markdown",
   "metadata": {},
   "source": [
    "### Specify column"
   ]
  },
  {
   "cell_type": "code",
   "execution_count": null,
   "metadata": {},
   "outputs": [],
   "source": [
    "df.loc[df['Hobbyist'] == 'Yes', ['MainBranch', 'OpenSourcer']]"
   ]
  },
  {
   "cell_type": "markdown",
   "metadata": {},
   "source": [
    "### Filtering Condition with & and |\n",
    "Có 2 toán từ logic mà ta cần quan tâm khi filter dữ liệu đó là **And** và **Or**\n",
    "+ And: Chỉ đúng khi cả 2 cùng đúng\n",
    "+ Or: Chỉ sai khi cả 2 cùng sai"
   ]
  },
  {
   "cell_type": "code",
   "execution_count": null,
   "metadata": {},
   "outputs": [],
   "source": [
    "# Toán tử and - &\n",
    "df.loc[(df['Hobbyist'] == 'Yes') & (df['OpenSourcer'] == 'Never'), ['MainBranch', 'OpenSourcer']]"
   ]
  },
  {
   "cell_type": "code",
   "execution_count": null,
   "metadata": {},
   "outputs": [],
   "source": [
    "# Lấy phần bù với dấu -\n",
    "df.loc[-((df['Hobbyist'] == 'Yes') & (df['OpenSourcer'] == 'Never')), ['MainBranch', 'OpenSourcer']]"
   ]
  },
  {
   "cell_type": "code",
   "execution_count": null,
   "metadata": {},
   "outputs": [],
   "source": [
    "# Toán tử or - |\n",
    "df.loc[(df['Hobbyist'] == 'Yes') | (df['OpenSourcer'] == 'Less than once per year'), ['MainBranch', 'OpenSourcer']]"
   ]
  },
  {
   "cell_type": "markdown",
   "metadata": {},
   "source": [
    "Ngoài ra Pandas cũng áp dụng những operator > < >= hay <= để filter dữ liệu"
   ]
  },
  {
   "cell_type": "markdown",
   "metadata": {},
   "source": [
    "### Method isin\n",
    "Ta cũng có một method khác hỗ trợ filter nhiều kiểu giá trị trên một field. Đó là **isin**"
   ]
  },
  {
   "cell_type": "code",
   "execution_count": null,
   "metadata": {},
   "outputs": [],
   "source": [
    "countries = ['United States', 'India', 'United Kingdom', 'Germany', 'Canada']\n",
    "df.loc[df['Country'].isin(countries), 'Country']"
   ]
  },
  {
   "cell_type": "markdown",
   "metadata": {},
   "source": [
    "Nếu làm như bình thường, ta cần có 5 lần df['Country'] == ... Như vậy rất cực và lâu. Từ đó isin đã được ra đời, thứ nó trả về cũng là một Series True False như ở trên, không khác gì cả"
   ]
  },
  {
   "cell_type": "markdown",
   "metadata": {},
   "source": [
    "### Series Method\n",
    "Ta có một số thứ gọi là Series Method, đã được phát triển sẵn bởi pandas, ta chỉ việc làm theo hướng dẫn và dùng thôi"
   ]
  },
  {
   "cell_type": "code",
   "execution_count": null,
   "metadata": {},
   "outputs": [],
   "source": [
    "filt = df['LanguageWorkedWith'].str.contains('Python', na = False)\n",
    "df.loc[filt, 'LanguageWorkedWith']"
   ]
  },
  {
   "cell_type": "markdown",
   "metadata": {},
   "source": [
    "Như tay thấy ở ví dụ trên, column LanguageWorkedWith chứa một string là tập hợp các ngôn ngữ của một record đã từng sử dụng. Thà mỗi record là từng ngôn ngữ, thì ta filter như bth, nhưng nó là một chuỗi thì ta phải sử dụng method để kiểm tra chuỗi đó có tồn tại thứ ta đang tìm hay không.\n",
    "\n",
    "Còn rất nhiều method hay ho, mn có thể tự tìm hiểu trong quá trình làm việc"
   ]
  }
 ],
 "metadata": {
  "kernelspec": {
   "display_name": "pandas_cheatsheet",
   "language": "python",
   "name": "pandas_cheatsheet"
  },
  "language_info": {
   "codemirror_mode": {
    "name": "ipython",
    "version": 3
   },
   "file_extension": ".py",
   "mimetype": "text/x-python",
   "name": "python",
   "nbconvert_exporter": "python",
   "pygments_lexer": "ipython3",
   "version": "3.7.7"
  }
 },
 "nbformat": 4,
 "nbformat_minor": 4
}
